{
 "cells": [
  {
   "cell_type": "markdown",
   "id": "8867a578",
   "metadata": {},
   "source": [
    "# 1. Create a null vector of size 10 but the fifth value which is 1"
   ]
  },
  {
   "cell_type": "code",
   "execution_count": 58,
   "id": "4b4e207e",
   "metadata": {},
   "outputs": [
    {
     "name": "stdout",
     "output_type": "stream",
     "text": [
      "[0 0 0 0 1 0 0 0 0 0]\n"
     ]
    }
   ],
   "source": [
    "import numpy as np\n",
    "import pandas as pd\n",
    "\n",
    "array = np.zeros(10,dtype = int)\n",
    "array[4] = 1\n",
    "print(array)"
   ]
  },
  {
   "cell_type": "markdown",
   "id": "d6893eb6",
   "metadata": {},
   "source": [
    "# 2. Create a vector with values ranging from 10 to 49."
   ]
  },
  {
   "cell_type": "code",
   "execution_count": 6,
   "id": "4bb7f2f3",
   "metadata": {},
   "outputs": [
    {
     "name": "stdout",
     "output_type": "stream",
     "text": [
      "[10 11 12 13 14 15 16 17 18 19 20 21 22 23 24 25 26 27 28 29 30 31 32 33\n",
      " 34 35 36 37 38 39 40 41 42 43 44 45 46 47 48 49]\n"
     ]
    }
   ],
   "source": [
    "array_1 = np.arange(10,50)\n",
    "print(array_1)"
   ]
  },
  {
   "cell_type": "markdown",
   "id": "4f116079",
   "metadata": {},
   "source": [
    "# 3. Create a 3x3 matrix with values ranging from 0 to 8"
   ]
  },
  {
   "cell_type": "code",
   "execution_count": 10,
   "id": "61556d01",
   "metadata": {},
   "outputs": [
    {
     "name": "stdout",
     "output_type": "stream",
     "text": [
      "[[0 1 2]\n",
      " [3 4 5]\n",
      " [6 7 8]]\n"
     ]
    }
   ],
   "source": [
    "array_2 = np.arange(0,9).reshape(3,3)\n",
    "print(array_2)"
   ]
  },
  {
   "cell_type": "markdown",
   "id": "7f6fd010",
   "metadata": {},
   "source": [
    "# 4. Find indices of non-zero elements from [1,2,0,0,4,0]"
   ]
  },
  {
   "cell_type": "code",
   "execution_count": 19,
   "id": "12929653",
   "metadata": {},
   "outputs": [
    {
     "name": "stdout",
     "output_type": "stream",
     "text": [
      "[1 2 0 0 4 0]\n",
      "result:\n",
      "(array([2, 3, 5], dtype=int64),)\n"
     ]
    }
   ],
   "source": [
    "array_3=np.array([1,2,0,0,4,0])\n",
    "print(array_3)\n",
    "print(\"result:\")\n",
    "res = np.nonzero(array_3 ==0)\n",
    "print(res)"
   ]
  },
  {
   "cell_type": "markdown",
   "id": "18a441d5",
   "metadata": {},
   "source": [
    "# 5. Create a 10x10 array with random values and find the minimum and maximum values."
   ]
  },
  {
   "cell_type": "code",
   "execution_count": 42,
   "id": "03132e85",
   "metadata": {},
   "outputs": [
    {
     "name": "stdout",
     "output_type": "stream",
     "text": [
      "[[0.17599895 0.79348667 0.67975127 0.45294011 0.06601018 0.82413391\n",
      "  0.35853085 0.43796371 0.16116933 0.17871882]\n",
      " [0.40635369 0.69546544 0.22057775 0.14268095 0.28717404 0.16716233\n",
      "  0.30179753 0.88478595 0.97984057 0.4810719 ]\n",
      " [0.53112003 0.63199444 0.58407833 0.52166316 0.58131184 0.36410104\n",
      "  0.41018967 0.27762135 0.24762925 0.08713669]\n",
      " [0.35551846 0.84992808 0.09057689 0.38266168 0.84629033 0.48637162\n",
      "  0.96453805 0.70100048 0.16881372 0.49506008]\n",
      " [0.75467671 0.99363962 0.6035984  0.39035836 0.95230602 0.62206351\n",
      "  0.15256088 0.2752991  0.87813972 0.06131935]\n",
      " [0.81443465 0.97056043 0.01110834 0.72347577 0.45135943 0.62712674\n",
      "  0.67070272 0.92211897 0.59924561 0.82111387]\n",
      " [0.40029956 0.89696643 0.03890175 0.78027773 0.16248565 0.44849441\n",
      "  0.38328662 0.78262836 0.23616753 0.78343023]\n",
      " [0.78703442 0.73645689 0.11313387 0.04455273 0.72060841 0.33878117\n",
      "  0.54597648 0.2464435  0.12975379 0.81850892]\n",
      " [0.23164055 0.70345448 0.98599009 0.70313532 0.06764778 0.3785688\n",
      "  0.00930292 0.52162847 0.80889421 0.37448348]\n",
      " [0.87881602 0.18920616 0.31064639 0.88048578 0.88423717 0.16729202\n",
      "  0.33437692 0.17544213 0.21991756 0.90638649]]\n",
      "\n",
      "\n",
      "\n",
      "the minimun value:\n",
      "0.002858511493093352\n",
      "\n",
      "\n",
      "\n",
      "the maximun value:\n",
      "0.9936396218238391\n"
     ]
    }
   ],
   "source": [
    "array_4 = np.random.rand(10,10)\n",
    "print(array_4)\n",
    "print(\"\\n\\n\")\n",
    "print(\"the minimun value:\")\n",
    "print(n_array.min())\n",
    "print(\"\\n\\n\")\n",
    "print(\"the maximun value:\")\n",
    "print(array_4.max())"
   ]
  },
  {
   "cell_type": "markdown",
   "id": "1a85687c",
   "metadata": {},
   "source": [
    "# 6. Create a random vector of size 30 and find the mean value."
   ]
  },
  {
   "cell_type": "code",
   "execution_count": 57,
   "id": "401db170",
   "metadata": {},
   "outputs": [
    {
     "name": "stdout",
     "output_type": "stream",
     "text": [
      "[0.55074186 0.33446454 0.15777232 0.21638816 0.54078972 0.17351355\n",
      " 0.49841667 0.95318506 0.75637415 0.13634549 0.19315529 0.68661353\n",
      " 0.97117536 0.61490763 0.16784142 0.40856147 0.31277081 0.55993157\n",
      " 0.70958657 0.58042243 0.93455309 0.62339987 0.10633816 0.97397203\n",
      " 0.73026309 0.23519825 0.01119514 0.98288288 0.33217601 0.547647  ]\n",
      "\n",
      "\n",
      "the mean value:\n",
      "0.5000194370852323\n"
     ]
    }
   ],
   "source": [
    "array_5 = np.random.rand(30)\n",
    "print(array_5)\n",
    "print(\"\\n\")\n",
    "print(\"the mean value:\")\n",
    "print(np.mean(array_5))"
   ]
  }
 ],
 "metadata": {
  "celltoolbar": "Raw Cell Format",
  "kernelspec": {
   "display_name": "Python 3 (ipykernel)",
   "language": "python",
   "name": "python3"
  },
  "language_info": {
   "codemirror_mode": {
    "name": "ipython",
    "version": 3
   },
   "file_extension": ".py",
   "mimetype": "text/x-python",
   "name": "python",
   "nbconvert_exporter": "python",
   "pygments_lexer": "ipython3",
   "version": "3.9.13"
  }
 },
 "nbformat": 4,
 "nbformat_minor": 5
}
