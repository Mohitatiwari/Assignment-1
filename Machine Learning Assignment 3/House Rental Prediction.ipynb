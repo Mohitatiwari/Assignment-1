{
 "cells": [
  {
   "cell_type": "markdown",
   "id": "847c71ca",
   "metadata": {},
   "source": [
    "# Import the necessary libraries"
   ]
  },
  {
   "cell_type": "code",
   "execution_count": 3,
   "id": "f125d26c",
   "metadata": {},
   "outputs": [],
   "source": [
    "import numpy as np\n",
    "import pandas as pd\n",
    "from sklearn.model_selection import train_test_split\n",
    "from sklearn.linear_model import LinearRegression\n",
    "from sklearn.metrics import mean_squared_error, mean_absolute_error\n",
    "from sklearn.linear_model import Ridge,Lasso\n",
    "from sklearn import metrics\n",
    "import matplotlib.pyplot as plt\n",
    "%matplotlib inline"
   ]
  },
  {
   "cell_type": "markdown",
   "id": "795db724",
   "metadata": {},
   "source": [
    "# Import the dataset"
   ]
  },
  {
   "cell_type": "code",
   "execution_count": 6,
   "id": "e8005442",
   "metadata": {},
   "outputs": [
    {
     "data": {
      "text/html": [
       "<div>\n",
       "<style scoped>\n",
       "    .dataframe tbody tr th:only-of-type {\n",
       "        vertical-align: middle;\n",
       "    }\n",
       "\n",
       "    .dataframe tbody tr th {\n",
       "        vertical-align: top;\n",
       "    }\n",
       "\n",
       "    .dataframe thead th {\n",
       "        text-align: right;\n",
       "    }\n",
       "</style>\n",
       "<table border=\"1\" class=\"dataframe\">\n",
       "  <thead>\n",
       "    <tr style=\"text-align: right;\">\n",
       "      <th></th>\n",
       "      <th>Unnamed: 0</th>\n",
       "      <th>Sqft</th>\n",
       "      <th>Floor</th>\n",
       "      <th>TotalFloor</th>\n",
       "      <th>Bedroom</th>\n",
       "      <th>Living.Room</th>\n",
       "      <th>Bathroom</th>\n",
       "      <th>Price</th>\n",
       "    </tr>\n",
       "  </thead>\n",
       "  <tbody>\n",
       "    <tr>\n",
       "      <th>0</th>\n",
       "      <td>1</td>\n",
       "      <td>1177.698</td>\n",
       "      <td>2</td>\n",
       "      <td>7</td>\n",
       "      <td>2</td>\n",
       "      <td>2</td>\n",
       "      <td>2</td>\n",
       "      <td>62000</td>\n",
       "    </tr>\n",
       "    <tr>\n",
       "      <th>1</th>\n",
       "      <td>2</td>\n",
       "      <td>2134.800</td>\n",
       "      <td>5</td>\n",
       "      <td>7</td>\n",
       "      <td>4</td>\n",
       "      <td>2</td>\n",
       "      <td>2</td>\n",
       "      <td>78000</td>\n",
       "    </tr>\n",
       "    <tr>\n",
       "      <th>2</th>\n",
       "      <td>3</td>\n",
       "      <td>1138.560</td>\n",
       "      <td>5</td>\n",
       "      <td>7</td>\n",
       "      <td>2</td>\n",
       "      <td>2</td>\n",
       "      <td>1</td>\n",
       "      <td>58000</td>\n",
       "    </tr>\n",
       "    <tr>\n",
       "      <th>3</th>\n",
       "      <td>4</td>\n",
       "      <td>1458.780</td>\n",
       "      <td>2</td>\n",
       "      <td>7</td>\n",
       "      <td>3</td>\n",
       "      <td>2</td>\n",
       "      <td>2</td>\n",
       "      <td>45000</td>\n",
       "    </tr>\n",
       "    <tr>\n",
       "      <th>4</th>\n",
       "      <td>5</td>\n",
       "      <td>967.776</td>\n",
       "      <td>11</td>\n",
       "      <td>14</td>\n",
       "      <td>3</td>\n",
       "      <td>2</td>\n",
       "      <td>2</td>\n",
       "      <td>45000</td>\n",
       "    </tr>\n",
       "  </tbody>\n",
       "</table>\n",
       "</div>"
      ],
      "text/plain": [
       "   Unnamed: 0      Sqft  Floor  TotalFloor  Bedroom  Living.Room  Bathroom  \\\n",
       "0           1  1177.698      2           7        2            2         2   \n",
       "1           2  2134.800      5           7        4            2         2   \n",
       "2           3  1138.560      5           7        2            2         1   \n",
       "3           4  1458.780      2           7        3            2         2   \n",
       "4           5   967.776     11          14        3            2         2   \n",
       "\n",
       "   Price  \n",
       "0  62000  \n",
       "1  78000  \n",
       "2  58000  \n",
       "3  45000  \n",
       "4  45000  "
      ]
     },
     "execution_count": 6,
     "metadata": {},
     "output_type": "execute_result"
    }
   ],
   "source": [
    "house_data = pd.read_csv(\"https://raw.githubusercontent.com/edyoda/data-science-complete-tutorial/master/Data/house_rental_data.csv.txt\")\n",
    "house_data.head()"
   ]
  },
  {
   "cell_type": "code",
   "execution_count": 7,
   "id": "e479ba4d",
   "metadata": {},
   "outputs": [],
   "source": [
    "columns = house_data.columns.tolist()"
   ]
  },
  {
   "cell_type": "code",
   "execution_count": 8,
   "id": "a846981b",
   "metadata": {},
   "outputs": [],
   "source": [
    "columns.remove('Price')"
   ]
  },
  {
   "cell_type": "code",
   "execution_count": 9,
   "id": "48fc26f8",
   "metadata": {},
   "outputs": [],
   "source": [
    "feature_data = house_data[columns]\n",
    "target_data = house_data.Price"
   ]
  },
  {
   "cell_type": "code",
   "execution_count": 10,
   "id": "1a35821d",
   "metadata": {},
   "outputs": [],
   "source": [
    "X_train,X_test, y_train,y_test = train_test_split(feature_data, target_data)"
   ]
  },
  {
   "cell_type": "code",
   "execution_count": 11,
   "id": "a21dc7fa",
   "metadata": {},
   "outputs": [
    {
     "data": {
      "text/plain": [
       "(483, 7)"
      ]
     },
     "execution_count": 11,
     "metadata": {},
     "output_type": "execute_result"
    }
   ],
   "source": [
    "X_train.shape"
   ]
  },
  {
   "cell_type": "code",
   "execution_count": 12,
   "id": "bc1a6126",
   "metadata": {},
   "outputs": [
    {
     "data": {
      "text/plain": [
       "(162, 7)"
      ]
     },
     "execution_count": 12,
     "metadata": {},
     "output_type": "execute_result"
    }
   ],
   "source": [
    "X_test.shape"
   ]
  },
  {
   "cell_type": "code",
   "execution_count": 13,
   "id": "a09588a8",
   "metadata": {},
   "outputs": [],
   "source": [
    "lr = LinearRegression(normalize=True)"
   ]
  },
  {
   "cell_type": "code",
   "execution_count": 14,
   "id": "fd321fb3",
   "metadata": {},
   "outputs": [
    {
     "name": "stderr",
     "output_type": "stream",
     "text": [
      "C:\\Users\\91786\\anaconda3\\lib\\site-packages\\sklearn\\linear_model\\_base.py:141: FutureWarning: 'normalize' was deprecated in version 1.0 and will be removed in 1.2.\n",
      "If you wish to scale the data, use Pipeline with a StandardScaler in a preprocessing stage. To reproduce the previous behavior:\n",
      "\n",
      "from sklearn.pipeline import make_pipeline\n",
      "\n",
      "model = make_pipeline(StandardScaler(with_mean=False), LinearRegression())\n",
      "\n",
      "If you wish to pass a sample_weight parameter, you need to pass it as a fit parameter to each step of the pipeline as follows:\n",
      "\n",
      "kwargs = {s[0] + '__sample_weight': sample_weight for s in model.steps}\n",
      "model.fit(X, y, **kwargs)\n",
      "\n",
      "\n",
      "  warnings.warn(\n"
     ]
    },
    {
     "data": {
      "text/plain": [
       "LinearRegression(normalize=True)"
      ]
     },
     "execution_count": 14,
     "metadata": {},
     "output_type": "execute_result"
    }
   ],
   "source": [
    "lr.fit(X_train,y_train)"
   ]
  },
  {
   "cell_type": "code",
   "execution_count": 15,
   "id": "e874af14",
   "metadata": {},
   "outputs": [
    {
     "data": {
      "text/plain": [
       "array([   -4.95234051,    38.79928808,   956.52914368,    30.68081126,\n",
       "       -2713.14069551, -3297.32091174,  2965.72841837])"
      ]
     },
     "execution_count": 15,
     "metadata": {},
     "output_type": "execute_result"
    }
   ],
   "source": [
    "lr.coef_"
   ]
  },
  {
   "cell_type": "code",
   "execution_count": 16,
   "id": "c41ae6e4",
   "metadata": {},
   "outputs": [
    {
     "data": {
      "text/html": [
       "<div>\n",
       "<style scoped>\n",
       "    .dataframe tbody tr th:only-of-type {\n",
       "        vertical-align: middle;\n",
       "    }\n",
       "\n",
       "    .dataframe tbody tr th {\n",
       "        vertical-align: top;\n",
       "    }\n",
       "\n",
       "    .dataframe thead th {\n",
       "        text-align: right;\n",
       "    }\n",
       "</style>\n",
       "<table border=\"1\" class=\"dataframe\">\n",
       "  <thead>\n",
       "    <tr style=\"text-align: right;\">\n",
       "      <th></th>\n",
       "      <th>Unnamed: 0</th>\n",
       "      <th>Sqft</th>\n",
       "      <th>Floor</th>\n",
       "      <th>TotalFloor</th>\n",
       "      <th>Bedroom</th>\n",
       "      <th>Living.Room</th>\n",
       "      <th>Bathroom</th>\n",
       "    </tr>\n",
       "  </thead>\n",
       "  <tbody>\n",
       "    <tr>\n",
       "      <th>393</th>\n",
       "      <td>397</td>\n",
       "      <td>1366.272</td>\n",
       "      <td>10</td>\n",
       "      <td>12</td>\n",
       "      <td>3</td>\n",
       "      <td>2</td>\n",
       "      <td>2</td>\n",
       "    </tr>\n",
       "    <tr>\n",
       "      <th>499</th>\n",
       "      <td>503</td>\n",
       "      <td>1067.400</td>\n",
       "      <td>6</td>\n",
       "      <td>9</td>\n",
       "      <td>4</td>\n",
       "      <td>2</td>\n",
       "      <td>2</td>\n",
       "    </tr>\n",
       "    <tr>\n",
       "      <th>312</th>\n",
       "      <td>316</td>\n",
       "      <td>1515.708</td>\n",
       "      <td>2</td>\n",
       "      <td>7</td>\n",
       "      <td>2</td>\n",
       "      <td>2</td>\n",
       "      <td>2</td>\n",
       "    </tr>\n",
       "    <tr>\n",
       "      <th>554</th>\n",
       "      <td>558</td>\n",
       "      <td>889.500</td>\n",
       "      <td>11</td>\n",
       "      <td>18</td>\n",
       "      <td>2</td>\n",
       "      <td>2</td>\n",
       "      <td>1</td>\n",
       "    </tr>\n",
       "    <tr>\n",
       "      <th>295</th>\n",
       "      <td>299</td>\n",
       "      <td>1579.752</td>\n",
       "      <td>10</td>\n",
       "      <td>12</td>\n",
       "      <td>4</td>\n",
       "      <td>1</td>\n",
       "      <td>1</td>\n",
       "    </tr>\n",
       "  </tbody>\n",
       "</table>\n",
       "</div>"
      ],
      "text/plain": [
       "     Unnamed: 0      Sqft  Floor  TotalFloor  Bedroom  Living.Room  Bathroom\n",
       "393         397  1366.272     10          12        3            2         2\n",
       "499         503  1067.400      6           9        4            2         2\n",
       "312         316  1515.708      2           7        2            2         2\n",
       "554         558   889.500     11          18        2            2         1\n",
       "295         299  1579.752     10          12        4            1         1"
      ]
     },
     "execution_count": 16,
     "metadata": {},
     "output_type": "execute_result"
    }
   ],
   "source": [
    "X_test[:5]"
   ]
  },
  {
   "cell_type": "code",
   "execution_count": 17,
   "id": "80dda059",
   "metadata": {},
   "outputs": [
    {
     "data": {
      "text/plain": [
       "393    41000\n",
       "499    50000\n",
       "312    48800\n",
       "554    30500\n",
       "295    65000\n",
       "Name: Price, dtype: int64"
      ]
     },
     "execution_count": 17,
     "metadata": {},
     "output_type": "execute_result"
    }
   ],
   "source": [
    "y_test[:5]"
   ]
  },
  {
   "cell_type": "code",
   "execution_count": 18,
   "id": "a773b5da",
   "metadata": {},
   "outputs": [
    {
     "data": {
      "text/plain": [
       "array([59039.73440008, 40287.46577578, 60146.38788437, 40632.01969125,\n",
       "       65426.38758677])"
      ]
     },
     "execution_count": 18,
     "metadata": {},
     "output_type": "execute_result"
    }
   ],
   "source": [
    "lr.predict(X_test[:5])"
   ]
  },
  {
   "cell_type": "code",
   "execution_count": 19,
   "id": "578a95c1",
   "metadata": {},
   "outputs": [],
   "source": [
    "pred = lr.predict(X_test)"
   ]
  },
  {
   "cell_type": "code",
   "execution_count": 20,
   "id": "02201a3b",
   "metadata": {},
   "outputs": [
    {
     "data": {
      "text/plain": [
       "13193.759272053883"
      ]
     },
     "execution_count": 20,
     "metadata": {},
     "output_type": "execute_result"
    }
   ],
   "source": [
    "mean_absolute_error(y_pred=pred, y_true=y_test)"
   ]
  },
  {
   "cell_type": "code",
   "execution_count": 21,
   "id": "379ad50b",
   "metadata": {},
   "outputs": [],
   "source": [
    "ridge = Ridge(alpha=1000)\n",
    "lasso = Lasso(alpha=1000)"
   ]
  },
  {
   "cell_type": "code",
   "execution_count": 22,
   "id": "2a551971",
   "metadata": {},
   "outputs": [
    {
     "data": {
      "text/plain": [
       "Lasso(alpha=1000)"
      ]
     },
     "execution_count": 22,
     "metadata": {},
     "output_type": "execute_result"
    }
   ],
   "source": [
    "ridge.fit(X_train,y_train)\n",
    "lasso.fit(X_train,y_train)"
   ]
  },
  {
   "cell_type": "code",
   "execution_count": 23,
   "id": "b15d0906",
   "metadata": {},
   "outputs": [],
   "source": [
    "pred = ridge.predict(X_test)\n",
    "pred = lasso.predict(X_test)"
   ]
  },
  {
   "cell_type": "code",
   "execution_count": 24,
   "id": "dcbd97b2",
   "metadata": {},
   "outputs": [
    {
     "data": {
      "text/plain": [
       "13370.30719894847"
      ]
     },
     "execution_count": 24,
     "metadata": {},
     "output_type": "execute_result"
    }
   ],
   "source": [
    "mean_absolute_error(y_pred=pred, y_true= y_test)"
   ]
  },
  {
   "cell_type": "markdown",
   "id": "6e80105e",
   "metadata": {},
   "source": [
    "# Training the Data"
   ]
  },
  {
   "cell_type": "code",
   "execution_count": 35,
   "id": "3f53e3a0",
   "metadata": {},
   "outputs": [],
   "source": [
    "from sklearn.model_selection import train_test_split"
   ]
  },
  {
   "cell_type": "code",
   "execution_count": 38,
   "id": "212e15ca",
   "metadata": {},
   "outputs": [],
   "source": [
    "X = df[['Sqft', 'Floor', 'TotalFloor', 'Bedroom', 'Living.Room',\n",
    "       'Bathroom']]\n",
    "y = df[\"Price\"]"
   ]
  },
  {
   "cell_type": "code",
   "execution_count": 39,
   "id": "469bb99b",
   "metadata": {},
   "outputs": [],
   "source": [
    "X_train,X_test,y_train,y_test=train_test_split(X,y,test_size=0.25,random_state=0)    "
   ]
  },
  {
   "cell_type": "markdown",
   "id": "4f12f60d",
   "metadata": {},
   "source": [
    "# Using the Linear Regresson model"
   ]
  },
  {
   "cell_type": "code",
   "execution_count": 40,
   "id": "397687b7",
   "metadata": {},
   "outputs": [],
   "source": [
    "from sklearn.linear_model import LinearRegression\n",
    "lr = LinearRegression()\n",
    "model = lr.fit(X_train,y_train)"
   ]
  },
  {
   "cell_type": "markdown",
   "id": "b807073c",
   "metadata": {},
   "source": [
    "# Predicting the data"
   ]
  },
  {
   "cell_type": "code",
   "execution_count": 43,
   "id": "5c98924a",
   "metadata": {},
   "outputs": [
    {
     "data": {
      "text/plain": [
       "array([ 31861.60014074,  28571.79309799,  33056.96593822,  86880.75995654,\n",
       "        90808.10783029,  80726.70630979,  85224.810976  ,  80917.26280855,\n",
       "        37977.52197263,  53902.93312262,  70461.86982314,  70206.94245906,\n",
       "        44714.20090695,  35978.13757212,  42710.70062172,  59678.72335914,\n",
       "        27234.34892479, 114362.27484351, 119852.94871879,  57271.14244076,\n",
       "        58492.25363346,  56825.88205766,  82890.88281876,  63309.4886439 ,\n",
       "        44713.62820268,  50742.84338674,  61345.09493495,  69966.67835815,\n",
       "        76505.86479018,  33522.86130001,  31797.06693114,  76289.18689311,\n",
       "        91332.72451819,  36904.38675004,  42867.00701838,  75610.93205649,\n",
       "       118294.02040737,  56881.27083346, 119852.94871879,  37630.52360181,\n",
       "        29113.27104539,  58931.2925484 ,  58098.83689857,  60356.8541879 ,\n",
       "        27520.39162338,  77920.56777736,  77166.53417331,  44993.67464978,\n",
       "        69765.00372381,  52302.61616804, 100921.99081164, 110452.001459  ,\n",
       "        50552.15141257,  83055.77994001,  29177.53689793,  79844.13905352,\n",
       "        60246.5174589 ,  30841.42494007,  32506.67204955,  63633.88980179,\n",
       "        36753.44471229, 154793.5171402 ,  77782.61870106,  26539.27159414,\n",
       "        32062.88976585, 145665.60849628,  57156.85217131,  86554.27732213,\n",
       "        87946.76104661, 163567.45341962,  25801.28861726,  60618.63491273,\n",
       "        40156.90203928,  43970.5996288 ,  51693.55072024,  30278.39203232,\n",
       "        25571.83929134,  53452.65760515,  61568.89354983,  52084.14950229,\n",
       "       114896.77010022,  50402.67938159,  46683.95897481,  81003.6850514 ,\n",
       "        88334.55948023,  46280.60889134,  86796.71960949,  57420.09654723,\n",
       "        80726.70630979,  34655.20971913, 145415.32683803,  43248.05632871,\n",
       "        72840.1736334 ,  30658.0081542 ,  69441.38590034,  28673.69183595,\n",
       "        37091.58837639,  35457.72395847,  35393.45810594,  77101.77645034,\n",
       "        78494.58334528,  80810.66401404, 113135.2429831 ,  23047.92539246,\n",
       "        55552.66691867,  70764.35706554,  59595.84624389,  55353.67835552,\n",
       "        42479.2957743 ,  66162.32994539,  72840.1736334 ,  38050.54089403,\n",
       "        44632.53985612,  29747.40417136,  52865.93542792, 133582.7136169 ,\n",
       "        44955.77972937, 170147.27224809,  69765.00372381,  88629.67206244,\n",
       "       128598.95686976,  71441.1094856 ,  77830.85629643,  58335.94723681,\n",
       "        30641.02924253,  28424.36377806,  52283.6627398 ,  56881.27083346,\n",
       "        61022.33759566,  42915.24461375,  81822.21608035,  61763.95729823,\n",
       "        44623.91672175,  77830.85629643,  85853.54928044, 166326.43494568,\n",
       "        18222.73155002,  35116.34388892,  65401.23183107,  66324.25464331,\n",
       "       160047.5695669 , 104916.28620057,  47656.18293225,  48468.13353789,\n",
       "        86404.77288138,  78924.71472087,  44224.31092847,  50000.35510735,\n",
       "        52302.61616804,  55783.29652431,  42491.05367626,  30389.48466177,\n",
       "        57271.14244076,  49035.67369528, 103324.27361844,  48837.65989355,\n",
       "        27641.73973824,  55105.68699498,  46552.59032182,  22242.82814757,\n",
       "        72607.14871726,  78249.7815321 ,  99942.14162659,  50093.35777352,\n",
       "        46948.62052488,  40773.47208176,  71466.84146613,  78143.7230321 ,\n",
       "        77830.85629643,  33712.71515999, 106050.65638852,  51394.40412077,\n",
       "        77411.33598648,  50402.67938159,  98697.3411644 ,  74908.19371353,\n",
       "        54183.03434949,  29488.64727469,  50596.35836561,  44541.93250046,\n",
       "        34566.05000025,  84808.60422129,  40917.64898192, 114565.31447184,\n",
       "        53065.79083096,  22798.58586702,  55096.75513848,  42710.70062172,\n",
       "        39182.63537079, 106818.51509368,  36602.52504454,  39182.63537079,\n",
       "        58260.44478174,  74339.25615238,  25571.83929134, 122274.43448764,\n",
       "        51138.33329529,  77195.61017169,  41517.39653037, 129079.60017202,\n",
       "        29585.47947343,  43058.52563918,  66651.30803484,  22878.87997672,\n",
       "        36010.72486055,  69966.67835815,  18897.00043642,  88812.67256167,\n",
       "        80726.70630979,  81303.55882562,  29022.3549676 ,  32309.48034771,\n",
       "        61574.5118511 ,  35116.34388892,  41106.80807692,  29177.53689793,\n",
       "        30932.92518968,  74192.11318459,  34619.99749498,  32062.88976585,\n",
       "        45315.67946355,  28901.63874532, 123232.36222968,  80726.70630979,\n",
       "        30262.48583587,  41754.82368336,  89319.41744396,  51294.92604408,\n",
       "        45455.52790169,  35890.59281009,  89498.84235297,  38044.69400117,\n",
       "        79036.89940687,  96943.97464147,  67092.13571846,  30153.50514556,\n",
       "        72446.38530398,  59170.47606031,  56152.73763758,  19514.81895308,\n",
       "        40444.3275551 ,  28571.79309799,  68503.31594805,  31041.2803431 ,\n",
       "        32441.86590252,  65759.17902451,  58424.44265333,  53580.87249547,\n",
       "        82521.12489073,  32106.94224841,  29747.40417136,  52591.73885446,\n",
       "        52931.9028596 ,  34566.05000025,  53772.64505864,  84702.57813105,\n",
       "        78632.53242158,  51274.52601269,  36867.09499652, 229937.068889  ,\n",
       "        36810.20380417,  31806.78212205,  77920.56777736,  45968.2500404 ,\n",
       "        50596.35836561,  69643.85477154,  28263.04860273,  58236.78597488,\n",
       "        70364.46492012,  77286.12592926,  31354.84184376,  28858.86498074,\n",
       "        35508.04108321,  60230.51966435,  40798.05722597,  50233.92031799,\n",
       "        54677.09044571,  35116.34388892,  78935.28702104,  72840.1736334 ,\n",
       "        29728.95525292, 114056.08268096,  29191.6543257 ,  56141.21468291,\n",
       "        41090.81028237,  50917.12915351, 118590.99696088,  33376.9533917 ,\n",
       "        60515.04095132,  66611.96547765,  20881.85704917,  61207.14585864,\n",
       "        37738.87875522,  28726.97502832,  52860.03077452,  43814.20163406,\n",
       "        70817.13237317,  50083.06352263,  40525.41149312,  78939.52691362,\n",
       "       140766.7816631 , 135793.76078011,  65884.07226697,  46547.05726295,\n",
       "        50596.35836561,  55676.75250957,  44697.34600315,  96420.84254686,\n",
       "        78632.53242158, 116157.93995148,  46533.27087943,  48841.43659351,\n",
       "        85167.06267439,  66318.3499899 ,  52849.08052412,  76093.38961426,\n",
       "        52841.67345417,  36798.42690713,  56141.21468291,  66146.94504836,\n",
       "        58098.83689857,  50402.67938159,  20283.86585963, 163567.45341962,\n",
       "        66463.96007852,  60088.99499783,  79549.00864805,  65672.9802614 ,\n",
       "        38867.40910931,  36024.30199382,  35707.05201636,  32967.81257503,\n",
       "        68503.31594805,  33056.96593822,  43687.32681601,  53333.0658492 ,\n",
       "       140266.14059681,  43329.09184266,  63885.26057073,  32643.11870931,\n",
       "        27120.93021293,  50299.74336685, 128723.48860535,  32464.05275545,\n",
       "        77242.09140815, 165342.36486311,  58579.04747084,  57204.26312005,\n",
       "       113144.99318339,  84074.35303342,  95369.90759191,  79671.6052371 ,\n",
       "        32790.78297653,  44485.96764545,  74078.13972991,  83055.77994001,\n",
       "        65850.64686436,  63429.08039985,  54183.03434949,  54349.37910752,\n",
       "        45515.30627499,  98237.2442714 ,  51366.28020467, 128598.95686976,\n",
       "        49850.88307638,  32677.34981634,  42104.17348736,  28901.63874532,\n",
       "       118453.04788458,  57689.46450954,  41553.21529634,  82383.17581443,\n",
       "        61655.22419459,  29132.21253756, 149869.07381267,  66888.7899676 ,\n",
       "       133104.03787096,  54143.52745299,  30032.92591679,  65166.80613624,\n",
       "        56542.32289273,  42315.26549293, 128598.95686976,  91109.85561559,\n",
       "        58655.9346903 ,  65161.18783498,  29701.11768894,  45273.37187235,\n",
       "       126798.55293977,  18711.47806711,  22248.98674334,  46335.2704924 ,\n",
       "        36602.52504454,  57368.80128614,  50215.30905528,  81441.50790193,\n",
       "        80888.63100771,  62086.01792539,  61821.10243295,  64681.31839462,\n",
       "        82922.55627101, 102265.91377029,  29747.40417136,  36431.6380275 ,\n",
       "        56915.33959622,  63007.6045684 ,  32589.29522244,  44612.19460449,\n",
       "        40514.55284081,  81378.52098619,  32616.40561166,  35006.59133174,\n",
       "        65672.9802614 , 103812.35245824,  53573.26626292,  49910.07092215,\n",
       "        66421.11925183,  54846.93009831,  32062.88976585,  45607.91757622,\n",
       "        69516.65678304,  55200.0870649 ,  87232.4673392 ,  39618.09869551,\n",
       "        27311.60773877,  50894.90989081,  64973.5006939 ,  59595.84624389,\n",
       "        78244.70352534,  32909.28267593,  70150.21915188,  37376.59517809,\n",
       "        39794.83558619,  51447.11655602,  50424.6994817 ,  50693.67607909,\n",
       "        69700.76833389,  77830.85629643,  43214.5456837 ,  58441.09839454,\n",
       "        41955.21938089,  29592.22224103,  74079.95896121,  57903.68790778,\n",
       "        31905.42208456,  35690.19711256,  47870.17475812,  23640.83857523,\n",
       "        42098.17723587,  50596.35836561,  88334.55948023,  75366.13024332,\n",
       "        92123.68196531,  58817.31909372,  59492.12827462,  39098.88773158,\n",
       "        42777.93448904,  91604.25284372, 196615.72317753,  44947.76611759,\n",
       "        78244.70352534,  63723.33587281,  94194.47530618,  62768.67499886,\n",
       "        69643.85477154,  54040.88219893,  91898.50831667,  32643.11870931,\n",
       "        70298.44270867,  67567.55268895,  36561.3165689 ,  59068.02556029,\n",
       "        73572.79225138,  42915.24461375,  64973.5006939 ,  42208.03480584,\n",
       "        79670.20783335,  70645.981374  ,  51926.02387433,  80170.31751254,\n",
       "        96029.80510818,  61103.55189724,  38307.62156233])"
      ]
     },
     "execution_count": 43,
     "metadata": {},
     "output_type": "execute_result"
    }
   ],
   "source": [
    "y_pred = lr.predict(X_train)\n",
    "y_pred"
   ]
  },
  {
   "cell_type": "markdown",
   "id": "521a0ff2",
   "metadata": {},
   "source": [
    "# Creating the Dataset for better understanding the actual and predicted data"
   ]
  },
  {
   "cell_type": "code",
   "execution_count": 44,
   "id": "fc835d37",
   "metadata": {},
   "outputs": [
    {
     "data": {
      "text/html": [
       "<div>\n",
       "<style scoped>\n",
       "    .dataframe tbody tr th:only-of-type {\n",
       "        vertical-align: middle;\n",
       "    }\n",
       "\n",
       "    .dataframe tbody tr th {\n",
       "        vertical-align: top;\n",
       "    }\n",
       "\n",
       "    .dataframe thead th {\n",
       "        text-align: right;\n",
       "    }\n",
       "</style>\n",
       "<table border=\"1\" class=\"dataframe\">\n",
       "  <thead>\n",
       "    <tr style=\"text-align: right;\">\n",
       "      <th></th>\n",
       "      <th>Actual_data</th>\n",
       "      <th>predicted_data</th>\n",
       "    </tr>\n",
       "  </thead>\n",
       "  <tbody>\n",
       "    <tr>\n",
       "      <th>118</th>\n",
       "      <td>22000</td>\n",
       "      <td>31861.600141</td>\n",
       "    </tr>\n",
       "    <tr>\n",
       "      <th>235</th>\n",
       "      <td>36000</td>\n",
       "      <td>28571.793098</td>\n",
       "    </tr>\n",
       "    <tr>\n",
       "      <th>449</th>\n",
       "      <td>36000</td>\n",
       "      <td>33056.965938</td>\n",
       "    </tr>\n",
       "    <tr>\n",
       "      <th>175</th>\n",
       "      <td>82000</td>\n",
       "      <td>86880.759957</td>\n",
       "    </tr>\n",
       "    <tr>\n",
       "      <th>356</th>\n",
       "      <td>55000</td>\n",
       "      <td>90808.107830</td>\n",
       "    </tr>\n",
       "    <tr>\n",
       "      <th>...</th>\n",
       "      <td>...</td>\n",
       "      <td>...</td>\n",
       "    </tr>\n",
       "    <tr>\n",
       "      <th>9</th>\n",
       "      <td>65000</td>\n",
       "      <td>51926.023874</td>\n",
       "    </tr>\n",
       "    <tr>\n",
       "      <th>359</th>\n",
       "      <td>98000</td>\n",
       "      <td>80170.317513</td>\n",
       "    </tr>\n",
       "    <tr>\n",
       "      <th>192</th>\n",
       "      <td>75000</td>\n",
       "      <td>96029.805108</td>\n",
       "    </tr>\n",
       "    <tr>\n",
       "      <th>629</th>\n",
       "      <td>45000</td>\n",
       "      <td>61103.551897</td>\n",
       "    </tr>\n",
       "    <tr>\n",
       "      <th>559</th>\n",
       "      <td>35000</td>\n",
       "      <td>38307.621562</td>\n",
       "    </tr>\n",
       "  </tbody>\n",
       "</table>\n",
       "<p>483 rows × 2 columns</p>\n",
       "</div>"
      ],
      "text/plain": [
       "     Actual_data  predicted_data\n",
       "118        22000    31861.600141\n",
       "235        36000    28571.793098\n",
       "449        36000    33056.965938\n",
       "175        82000    86880.759957\n",
       "356        55000    90808.107830\n",
       "..           ...             ...\n",
       "9          65000    51926.023874\n",
       "359        98000    80170.317513\n",
       "192        75000    96029.805108\n",
       "629        45000    61103.551897\n",
       "559        35000    38307.621562\n",
       "\n",
       "[483 rows x 2 columns]"
      ]
     },
     "execution_count": 44,
     "metadata": {},
     "output_type": "execute_result"
    }
   ],
   "source": [
    "predicted_dataframe = pd.DataFrame({\"Actual_data\" : y_train , \"predicted_data\" : y_pred})\n",
    "predicted_dataframe"
   ]
  }
 ],
 "metadata": {
  "kernelspec": {
   "display_name": "Python 3 (ipykernel)",
   "language": "python",
   "name": "python3"
  },
  "language_info": {
   "codemirror_mode": {
    "name": "ipython",
    "version": 3
   },
   "file_extension": ".py",
   "mimetype": "text/x-python",
   "name": "python",
   "nbconvert_exporter": "python",
   "pygments_lexer": "ipython3",
   "version": "3.9.13"
  }
 },
 "nbformat": 4,
 "nbformat_minor": 5
}
