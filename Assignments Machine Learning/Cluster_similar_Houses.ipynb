{
 "cells": [
  {
   "cell_type": "markdown",
   "id": "36324bad",
   "metadata": {},
   "source": [
    "# Import the necessary libraries"
   ]
  },
  {
   "cell_type": "code",
   "execution_count": 24,
   "id": "559c5f6b",
   "metadata": {},
   "outputs": [],
   "source": [
    "import numpy as np\n",
    "import pandas as pd\n",
    "import seaborn as sns\n",
    "from sklearn import preprocessing\n",
    "from sklearn.preprocessing import MinMaxScaler\n",
    "from sklearn import metrics\n",
    "import matplotlib.pyplot as plt\n",
    "%matplotlib inline"
   ]
  },
  {
   "cell_type": "markdown",
   "id": "86fc2364",
   "metadata": {},
   "source": [
    "# Import the dataset"
   ]
  },
  {
   "cell_type": "code",
   "execution_count": 25,
   "id": "82cf9917",
   "metadata": {
    "scrolled": true
   },
   "outputs": [
    {
     "data": {
      "text/html": [
       "<div>\n",
       "<style scoped>\n",
       "    .dataframe tbody tr th:only-of-type {\n",
       "        vertical-align: middle;\n",
       "    }\n",
       "\n",
       "    .dataframe tbody tr th {\n",
       "        vertical-align: top;\n",
       "    }\n",
       "\n",
       "    .dataframe thead th {\n",
       "        text-align: right;\n",
       "    }\n",
       "</style>\n",
       "<table border=\"1\" class=\"dataframe\">\n",
       "  <thead>\n",
       "    <tr style=\"text-align: right;\">\n",
       "      <th></th>\n",
       "      <th>Unnamed: 0</th>\n",
       "      <th>Sqft</th>\n",
       "      <th>Floor</th>\n",
       "      <th>TotalFloor</th>\n",
       "      <th>Bedroom</th>\n",
       "      <th>Living.Room</th>\n",
       "      <th>Bathroom</th>\n",
       "      <th>Price</th>\n",
       "    </tr>\n",
       "  </thead>\n",
       "  <tbody>\n",
       "    <tr>\n",
       "      <th>0</th>\n",
       "      <td>1</td>\n",
       "      <td>1177.698</td>\n",
       "      <td>2</td>\n",
       "      <td>7</td>\n",
       "      <td>2</td>\n",
       "      <td>2</td>\n",
       "      <td>2</td>\n",
       "      <td>62000</td>\n",
       "    </tr>\n",
       "    <tr>\n",
       "      <th>1</th>\n",
       "      <td>2</td>\n",
       "      <td>2134.800</td>\n",
       "      <td>5</td>\n",
       "      <td>7</td>\n",
       "      <td>4</td>\n",
       "      <td>2</td>\n",
       "      <td>2</td>\n",
       "      <td>78000</td>\n",
       "    </tr>\n",
       "    <tr>\n",
       "      <th>2</th>\n",
       "      <td>3</td>\n",
       "      <td>1138.560</td>\n",
       "      <td>5</td>\n",
       "      <td>7</td>\n",
       "      <td>2</td>\n",
       "      <td>2</td>\n",
       "      <td>1</td>\n",
       "      <td>58000</td>\n",
       "    </tr>\n",
       "    <tr>\n",
       "      <th>3</th>\n",
       "      <td>4</td>\n",
       "      <td>1458.780</td>\n",
       "      <td>2</td>\n",
       "      <td>7</td>\n",
       "      <td>3</td>\n",
       "      <td>2</td>\n",
       "      <td>2</td>\n",
       "      <td>45000</td>\n",
       "    </tr>\n",
       "    <tr>\n",
       "      <th>4</th>\n",
       "      <td>5</td>\n",
       "      <td>967.776</td>\n",
       "      <td>11</td>\n",
       "      <td>14</td>\n",
       "      <td>3</td>\n",
       "      <td>2</td>\n",
       "      <td>2</td>\n",
       "      <td>45000</td>\n",
       "    </tr>\n",
       "  </tbody>\n",
       "</table>\n",
       "</div>"
      ],
      "text/plain": [
       "   Unnamed: 0      Sqft  Floor  TotalFloor  Bedroom  Living.Room  Bathroom  \\\n",
       "0           1  1177.698      2           7        2            2         2   \n",
       "1           2  2134.800      5           7        4            2         2   \n",
       "2           3  1138.560      5           7        2            2         1   \n",
       "3           4  1458.780      2           7        3            2         2   \n",
       "4           5   967.776     11          14        3            2         2   \n",
       "\n",
       "   Price  \n",
       "0  62000  \n",
       "1  78000  \n",
       "2  58000  \n",
       "3  45000  \n",
       "4  45000  "
      ]
     },
     "execution_count": 25,
     "metadata": {},
     "output_type": "execute_result"
    }
   ],
   "source": [
    "url = \"https://raw.githubusercontent.com/edyoda/data-science-complete-tutorial/master/Data/house_rental_data.csv.txt\"\n",
    "df = pd.read_csv(url)\n",
    "df.head()"
   ]
  },
  {
   "cell_type": "code",
   "execution_count": 26,
   "id": "d846d1a6",
   "metadata": {},
   "outputs": [],
   "source": [
    "df.reset_index(drop = True)\n",
    "df = df.loc[:, ~df.columns.str.contains('^Unnamed')]"
   ]
  },
  {
   "cell_type": "code",
   "execution_count": 27,
   "id": "677f937b",
   "metadata": {
    "scrolled": true
   },
   "outputs": [
    {
     "data": {
      "text/html": [
       "<div>\n",
       "<style scoped>\n",
       "    .dataframe tbody tr th:only-of-type {\n",
       "        vertical-align: middle;\n",
       "    }\n",
       "\n",
       "    .dataframe tbody tr th {\n",
       "        vertical-align: top;\n",
       "    }\n",
       "\n",
       "    .dataframe thead th {\n",
       "        text-align: right;\n",
       "    }\n",
       "</style>\n",
       "<table border=\"1\" class=\"dataframe\">\n",
       "  <thead>\n",
       "    <tr style=\"text-align: right;\">\n",
       "      <th></th>\n",
       "      <th>Sqft</th>\n",
       "      <th>Floor</th>\n",
       "      <th>TotalFloor</th>\n",
       "      <th>Bedroom</th>\n",
       "      <th>Living_room</th>\n",
       "      <th>Bathroom</th>\n",
       "      <th>Price</th>\n",
       "    </tr>\n",
       "  </thead>\n",
       "  <tbody>\n",
       "    <tr>\n",
       "      <th>0</th>\n",
       "      <td>1177.698</td>\n",
       "      <td>2</td>\n",
       "      <td>7</td>\n",
       "      <td>2</td>\n",
       "      <td>2</td>\n",
       "      <td>2</td>\n",
       "      <td>62000</td>\n",
       "    </tr>\n",
       "    <tr>\n",
       "      <th>1</th>\n",
       "      <td>2134.800</td>\n",
       "      <td>5</td>\n",
       "      <td>7</td>\n",
       "      <td>4</td>\n",
       "      <td>2</td>\n",
       "      <td>2</td>\n",
       "      <td>78000</td>\n",
       "    </tr>\n",
       "    <tr>\n",
       "      <th>2</th>\n",
       "      <td>1138.560</td>\n",
       "      <td>5</td>\n",
       "      <td>7</td>\n",
       "      <td>2</td>\n",
       "      <td>2</td>\n",
       "      <td>1</td>\n",
       "      <td>58000</td>\n",
       "    </tr>\n",
       "    <tr>\n",
       "      <th>3</th>\n",
       "      <td>1458.780</td>\n",
       "      <td>2</td>\n",
       "      <td>7</td>\n",
       "      <td>3</td>\n",
       "      <td>2</td>\n",
       "      <td>2</td>\n",
       "      <td>45000</td>\n",
       "    </tr>\n",
       "    <tr>\n",
       "      <th>4</th>\n",
       "      <td>967.776</td>\n",
       "      <td>11</td>\n",
       "      <td>14</td>\n",
       "      <td>3</td>\n",
       "      <td>2</td>\n",
       "      <td>2</td>\n",
       "      <td>45000</td>\n",
       "    </tr>\n",
       "    <tr>\n",
       "      <th>...</th>\n",
       "      <td>...</td>\n",
       "      <td>...</td>\n",
       "      <td>...</td>\n",
       "      <td>...</td>\n",
       "      <td>...</td>\n",
       "      <td>...</td>\n",
       "      <td>...</td>\n",
       "    </tr>\n",
       "    <tr>\n",
       "      <th>640</th>\n",
       "      <td>1359.156</td>\n",
       "      <td>7</td>\n",
       "      <td>15</td>\n",
       "      <td>3</td>\n",
       "      <td>2</td>\n",
       "      <td>2</td>\n",
       "      <td>45000</td>\n",
       "    </tr>\n",
       "    <tr>\n",
       "      <th>641</th>\n",
       "      <td>377.148</td>\n",
       "      <td>4</td>\n",
       "      <td>10</td>\n",
       "      <td>1</td>\n",
       "      <td>1</td>\n",
       "      <td>1</td>\n",
       "      <td>24800</td>\n",
       "    </tr>\n",
       "    <tr>\n",
       "      <th>642</th>\n",
       "      <td>740.064</td>\n",
       "      <td>13</td>\n",
       "      <td>14</td>\n",
       "      <td>1</td>\n",
       "      <td>1</td>\n",
       "      <td>1</td>\n",
       "      <td>45000</td>\n",
       "    </tr>\n",
       "    <tr>\n",
       "      <th>643</th>\n",
       "      <td>1707.840</td>\n",
       "      <td>3</td>\n",
       "      <td>14</td>\n",
       "      <td>3</td>\n",
       "      <td>2</td>\n",
       "      <td>2</td>\n",
       "      <td>65000</td>\n",
       "    </tr>\n",
       "    <tr>\n",
       "      <th>644</th>\n",
       "      <td>1376.946</td>\n",
       "      <td>6</td>\n",
       "      <td>7</td>\n",
       "      <td>3</td>\n",
       "      <td>2</td>\n",
       "      <td>1</td>\n",
       "      <td>36000</td>\n",
       "    </tr>\n",
       "  </tbody>\n",
       "</table>\n",
       "<p>645 rows × 7 columns</p>\n",
       "</div>"
      ],
      "text/plain": [
       "         Sqft  Floor  TotalFloor  Bedroom  Living_room  Bathroom  Price\n",
       "0    1177.698      2           7        2            2         2  62000\n",
       "1    2134.800      5           7        4            2         2  78000\n",
       "2    1138.560      5           7        2            2         1  58000\n",
       "3    1458.780      2           7        3            2         2  45000\n",
       "4     967.776     11          14        3            2         2  45000\n",
       "..        ...    ...         ...      ...          ...       ...    ...\n",
       "640  1359.156      7          15        3            2         2  45000\n",
       "641   377.148      4          10        1            1         1  24800\n",
       "642   740.064     13          14        1            1         1  45000\n",
       "643  1707.840      3          14        3            2         2  65000\n",
       "644  1376.946      6           7        3            2         1  36000\n",
       "\n",
       "[645 rows x 7 columns]"
      ]
     },
     "execution_count": 27,
     "metadata": {},
     "output_type": "execute_result"
    }
   ],
   "source": [
    "df.rename(columns  = {'Living.Room' : 'Living_room'})"
   ]
  },
  {
   "cell_type": "code",
   "execution_count": 33,
   "id": "8ce4f687",
   "metadata": {},
   "outputs": [],
   "source": [
    "from sklearn.preprocessing import MinMaxScaler\n",
    "from sklearn.preprocessing import StandardScaler, normalize\n",
    "from scipy.cluster.hierarchy import dendrogram, linkage\n",
    "from sklearn.cluster import KMeans\n",
    "from scipy.cluster import hierarchy\n",
    "from scipy.spatial.distance import cdist\n",
    "from sklearn.decomposition import PCA\n",
    "from sklearn.cluster import AgglomerativeClustering\n",
    "from sklearn import metrics\n",
    "from sklearn.metrics import silhouette_score\n",
    "import scipy.cluster.hierarchy as shc"
   ]
  },
  {
   "cell_type": "code",
   "execution_count": 34,
   "id": "07ee62b3",
   "metadata": {
    "scrolled": true
   },
   "outputs": [],
   "source": [
    "scaler = StandardScaler()\n",
    "scaled_data = scaler.fit_transform(df)"
   ]
  },
  {
   "cell_type": "code",
   "execution_count": 35,
   "id": "a7d38eec",
   "metadata": {},
   "outputs": [
    {
     "data": {
      "text/html": [
       "<div>\n",
       "<style scoped>\n",
       "    .dataframe tbody tr th:only-of-type {\n",
       "        vertical-align: middle;\n",
       "    }\n",
       "\n",
       "    .dataframe tbody tr th {\n",
       "        vertical-align: top;\n",
       "    }\n",
       "\n",
       "    .dataframe thead th {\n",
       "        text-align: right;\n",
       "    }\n",
       "</style>\n",
       "<table border=\"1\" class=\"dataframe\">\n",
       "  <thead>\n",
       "    <tr style=\"text-align: right;\">\n",
       "      <th></th>\n",
       "      <th>0</th>\n",
       "      <th>1</th>\n",
       "      <th>2</th>\n",
       "      <th>3</th>\n",
       "      <th>4</th>\n",
       "      <th>5</th>\n",
       "      <th>6</th>\n",
       "    </tr>\n",
       "  </thead>\n",
       "  <tbody>\n",
       "    <tr>\n",
       "      <th>count</th>\n",
       "      <td>6.450000e+02</td>\n",
       "      <td>6.450000e+02</td>\n",
       "      <td>6.450000e+02</td>\n",
       "      <td>6.450000e+02</td>\n",
       "      <td>6.450000e+02</td>\n",
       "      <td>6.450000e+02</td>\n",
       "      <td>6.450000e+02</td>\n",
       "    </tr>\n",
       "    <tr>\n",
       "      <th>mean</th>\n",
       "      <td>7.289604e-17</td>\n",
       "      <td>1.056971e-17</td>\n",
       "      <td>-6.024466e-18</td>\n",
       "      <td>-1.684269e-16</td>\n",
       "      <td>1.984631e-16</td>\n",
       "      <td>9.191614e-17</td>\n",
       "      <td>-8.451465e-17</td>\n",
       "    </tr>\n",
       "    <tr>\n",
       "      <th>std</th>\n",
       "      <td>1.000776e+00</td>\n",
       "      <td>1.000776e+00</td>\n",
       "      <td>1.000776e+00</td>\n",
       "      <td>1.000776e+00</td>\n",
       "      <td>1.000776e+00</td>\n",
       "      <td>1.000776e+00</td>\n",
       "      <td>1.000776e+00</td>\n",
       "    </tr>\n",
       "    <tr>\n",
       "      <th>min</th>\n",
       "      <td>-1.523619e+00</td>\n",
       "      <td>-1.272516e+00</td>\n",
       "      <td>-1.974190e+00</td>\n",
       "      <td>-1.819099e+00</td>\n",
       "      <td>-3.926263e+00</td>\n",
       "      <td>-2.651152e+00</td>\n",
       "      <td>-1.569526e+00</td>\n",
       "    </tr>\n",
       "    <tr>\n",
       "      <th>25%</th>\n",
       "      <td>-7.858412e-01</td>\n",
       "      <td>-7.572786e-01</td>\n",
       "      <td>-7.723470e-01</td>\n",
       "      <td>-8.289563e-01</td>\n",
       "      <td>4.026936e-01</td>\n",
       "      <td>-1.187117e+00</td>\n",
       "      <td>-6.455621e-01</td>\n",
       "    </tr>\n",
       "    <tr>\n",
       "      <th>50%</th>\n",
       "      <td>-1.362251e-01</td>\n",
       "      <td>-2.420416e-01</td>\n",
       "      <td>2.291886e-01</td>\n",
       "      <td>1.611860e-01</td>\n",
       "      <td>4.026936e-01</td>\n",
       "      <td>2.769182e-01</td>\n",
       "      <td>-3.366380e-01</td>\n",
       "    </tr>\n",
       "    <tr>\n",
       "      <th>75%</th>\n",
       "      <td>4.762700e-01</td>\n",
       "      <td>5.308140e-01</td>\n",
       "      <td>6.298029e-01</td>\n",
       "      <td>1.151328e+00</td>\n",
       "      <td>4.026936e-01</td>\n",
       "      <td>2.769182e-01</td>\n",
       "      <td>3.654621e-01</td>\n",
       "    </tr>\n",
       "    <tr>\n",
       "      <th>max</th>\n",
       "      <td>5.645358e+00</td>\n",
       "      <td>4.137473e+00</td>\n",
       "      <td>5.437174e+00</td>\n",
       "      <td>4.121755e+00</td>\n",
       "      <td>4.731650e+00</td>\n",
       "      <td>4.669023e+00</td>\n",
       "      <td>5.280163e+00</td>\n",
       "    </tr>\n",
       "  </tbody>\n",
       "</table>\n",
       "</div>"
      ],
      "text/plain": [
       "                  0             1             2             3             4  \\\n",
       "count  6.450000e+02  6.450000e+02  6.450000e+02  6.450000e+02  6.450000e+02   \n",
       "mean   7.289604e-17  1.056971e-17 -6.024466e-18 -1.684269e-16  1.984631e-16   \n",
       "std    1.000776e+00  1.000776e+00  1.000776e+00  1.000776e+00  1.000776e+00   \n",
       "min   -1.523619e+00 -1.272516e+00 -1.974190e+00 -1.819099e+00 -3.926263e+00   \n",
       "25%   -7.858412e-01 -7.572786e-01 -7.723470e-01 -8.289563e-01  4.026936e-01   \n",
       "50%   -1.362251e-01 -2.420416e-01  2.291886e-01  1.611860e-01  4.026936e-01   \n",
       "75%    4.762700e-01  5.308140e-01  6.298029e-01  1.151328e+00  4.026936e-01   \n",
       "max    5.645358e+00  4.137473e+00  5.437174e+00  4.121755e+00  4.731650e+00   \n",
       "\n",
       "                  5             6  \n",
       "count  6.450000e+02  6.450000e+02  \n",
       "mean   9.191614e-17 -8.451465e-17  \n",
       "std    1.000776e+00  1.000776e+00  \n",
       "min   -2.651152e+00 -1.569526e+00  \n",
       "25%   -1.187117e+00 -6.455621e-01  \n",
       "50%    2.769182e-01 -3.366380e-01  \n",
       "75%    2.769182e-01  3.654621e-01  \n",
       "max    4.669023e+00  5.280163e+00  "
      ]
     },
     "execution_count": 35,
     "metadata": {},
     "output_type": "execute_result"
    }
   ],
   "source": [
    "pd.DataFrame(scaled_data).describe()\n"
   ]
  },
  {
   "cell_type": "code",
   "execution_count": 37,
   "id": "2f5b94da",
   "metadata": {},
   "outputs": [
    {
     "data": {
      "text/plain": [
       "KMeans(n_clusters=4)"
      ]
     },
     "execution_count": 37,
     "metadata": {},
     "output_type": "execute_result"
    }
   ],
   "source": [
    "kmeans = KMeans(n_clusters = 4, init = 'k-means++')\n",
    "kmeans.fit(scaled_data)"
   ]
  },
  {
   "cell_type": "code",
   "execution_count": 38,
   "id": "93cbdaba",
   "metadata": {},
   "outputs": [
    {
     "data": {
      "text/plain": [
       "2154.163657347778"
      ]
     },
     "execution_count": 38,
     "metadata": {},
     "output_type": "execute_result"
    }
   ],
   "source": [
    "kmeans.inertia_"
   ]
  },
  {
   "cell_type": "code",
   "execution_count": 42,
   "id": "052becd9",
   "metadata": {},
   "outputs": [
    {
     "name": "stderr",
     "output_type": "stream",
     "text": [
      "C:\\Users\\91786\\anaconda3\\lib\\site-packages\\sklearn\\cluster\\_kmeans.py:1036: UserWarning: KMeans is known to have a memory leak on Windows with MKL, when there are less chunks than available threads. You can avoid it by setting the environment variable OMP_NUM_THREADS=3.\n",
      "  warnings.warn(\n",
      "C:\\Users\\91786\\anaconda3\\lib\\site-packages\\sklearn\\cluster\\_kmeans.py:1036: UserWarning: KMeans is known to have a memory leak on Windows with MKL, when there are less chunks than available threads. You can avoid it by setting the environment variable OMP_NUM_THREADS=3.\n",
      "  warnings.warn(\n"
     ]
    }
   ],
   "source": [
    "distortions = []\n",
    "inertias = []\n",
    "mapping1 = {}\n",
    "mapping2 = {}\n",
    "K = range(1, 15)\n",
    "for k in K:\n",
    "    kmeanModel = KMeans(n_clusters=k).fit(scaled_data)\n",
    "    kmeanModel.fit(scaled_data)\n",
    "\n",
    "    distortions.append(sum(np.min(cdist(scaled_data, kmeanModel.cluster_centers_,\n",
    "                                        'euclidean'), axis=1)) / scaled_data.shape[0])\n",
    "    inertias.append(kmeanModel.inertia_)\n",
    "\n",
    "    mapping1[k] = sum(np.min(cdist(scaled_data, kmeanModel.cluster_centers_,\n",
    "                                   'euclidean'), axis=1)) / scaled_data.shape[0]\n",
    "    mapping2[k] = kmeanModel.inertia_   "
   ]
  },
  {
   "cell_type": "code",
   "execution_count": 43,
   "id": "71f0ffac",
   "metadata": {},
   "outputs": [
    {
     "name": "stdout",
     "output_type": "stream",
     "text": [
      "1 : 2.3615265828331347\n",
      "2 : 1.9847844864092707\n",
      "3 : 1.7681728418731681\n",
      "4 : 1.6559700032896136\n",
      "5 : 1.5234125016363944\n",
      "6 : 1.4668070808103244\n",
      "7 : 1.4146357223086428\n",
      "8 : 1.351522028068968\n",
      "9 : 1.3199541520700173\n",
      "10 : 1.2732444960275593\n",
      "11 : 1.25278969942337\n",
      "12 : 1.221746037354415\n",
      "13 : 1.2071380552057296\n",
      "14 : 1.1788409647494573\n"
     ]
    },
    {
     "data": {
      "image/png": "[encoded data removed]",
      "text/plain": [
       "<Figure size 640x480 with 1 Axes>"
      ]
     },
     "metadata": {},
     "output_type": "display_data"
    }
   ],
   "source": [
    "for key,val in mapping1.items():\n",
    "    print(str(key)+' : '+str(val))\n",
    "\n",
    "plt.plot(K, distortions, 'bx-')\n",
    "plt.xlabel('Values of K')\n",
    "plt.ylabel('Distortion')\n",
    "plt.title('The Elbow Method using Distortion')\n",
    "plt.show()"
   ]
  },
  {
   "cell_type": "code",
   "execution_count": 44,
   "id": "8007ffa4",
   "metadata": {},
   "outputs": [
    {
     "name": "stdout",
     "output_type": "stream",
     "text": [
      "1 : 4514.999999999999\n",
      "2 : 3205.7237084107105\n",
      "3 : 2502.4632671880563\n",
      "4 : 2154.122109129101\n",
      "5 : 1880.872020690465\n",
      "6 : 1729.597413274269\n",
      "7 : 1593.6862305633208\n",
      "8 : 1494.224632236\n",
      "9 : 1426.685603526986\n",
      "10 : 1339.042853286316\n",
      "11 : 1279.769813867666\n",
      "12 : 1223.235163923146\n",
      "13 : 1169.5710822783328\n",
      "14 : 1130.2996272742892\n"
     ]
    },
    {
     "data": {
      "image/png": "[encoded data removed]",
      "text/plain": [
       "<Figure size 640x480 with 1 Axes>"
      ]
     },
     "metadata": {},
     "output_type": "display_data"
    }
   ],
   "source": [
    "for key,val in mapping2.items():\n",
    "    print(str(key)+' : '+str(val))\n",
    "plt.plot(K, inertias, 'bx-')\n",
    "plt.xlabel('Values of K')\n",
    "plt.ylabel('Inertia')\n",
    "plt.title('The Elbow Method using Inertia')\n",
    "plt.show()"
   ]
  },
  {
   "cell_type": "code",
   "execution_count": 51,
   "id": "86ec5493",
   "metadata": {},
   "outputs": [],
   "source": [
    "kmeans = KMeans( n_clusters = 6, init = 'k-means++')\n",
    "kmeans.fit(scaled_data)\n",
    "pred = kmeans.predict(scaled_data)"
   ]
  },
  {
   "cell_type": "code",
   "execution_count": 52,
   "id": "632802d0",
   "metadata": {},
   "outputs": [
    {
     "data": {
      "text/plain": [
       "2    219\n",
       "1    116\n",
       "3    115\n",
       "0     93\n",
       "5     74\n",
       "4     28\n",
       "Name: cluster, dtype: int64"
      ]
     },
     "execution_count": 52,
     "metadata": {},
     "output_type": "execute_result"
    }
   ],
   "source": [
    "frame = pd.DataFrame(scaled_data)\n",
    "frame['cluster'] = pred\n",
    "frame['cluster'].value_counts()"
   ]
  },
  {
   "cell_type": "code",
   "execution_count": 55,
   "id": "1191e0ce",
   "metadata": {},
   "outputs": [],
   "source": [
    "kmeans = KMeans( n_clusters = 8, init = 'k-means++')\n",
    "kmeans.fit(scaled_data)\n",
    "pred = kmeans.predict(scaled_data)"
   ]
  },
  {
   "cell_type": "code",
   "execution_count": 56,
   "id": "cdf1f66e",
   "metadata": {},
   "outputs": [
    {
     "data": {
      "text/plain": [
       "5    216\n",
       "2    107\n",
       "0     90\n",
       "4     74\n",
       "6     70\n",
       "3     41\n",
       "1     28\n",
       "7     19\n",
       "Name: cluster, dtype: int64"
      ]
     },
     "execution_count": 56,
     "metadata": {},
     "output_type": "execute_result"
    }
   ],
   "source": [
    "frame = pd.DataFrame(scaled_data)\n",
    "frame['cluster'] = pred\n",
    "frame['cluster'].value_counts()\n"
   ]
  },
  {
   "cell_type": "code",
   "execution_count": null,
   "id": "1e08adf9",
   "metadata": {},
   "outputs": [],
   "source": []
  }
 ],
 "metadata": {
  "kernelspec": {
   "display_name": "Python 3 (ipykernel)",
   "language": "python",
   "name": "python3"
  },
  "language_info": {
   "codemirror_mode": {
    "name": "ipython",
    "version": 3
   },
   "file_extension": ".py",
   "mimetype": "text/x-python",
   "name": "python",
   "nbconvert_exporter": "python",
   "pygments_lexer": "ipython3",
   "version": "3.9.13"
  }
 },
 "nbformat": 4,
 "nbformat_minor": 5
}
